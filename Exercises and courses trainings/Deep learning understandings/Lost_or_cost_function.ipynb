{
  "nbformat": 4,
  "nbformat_minor": 0,
  "metadata": {
    "colab": {
      "provenance": []
    },
    "kernelspec": {
      "name": "python3",
      "display_name": "Python 3"
    },
    "language_info": {
      "name": "python"
    }
  },
  "cells": [
    {
      "cell_type": "code",
      "execution_count": 15,
      "metadata": {
        "id": "gciUMu2rFmGW"
      },
      "outputs": [],
      "source": [
        "# In machine learning and deep learning using \"Squared error\" is useful\n",
        "#Going through the samples in ecamulated way is called \"Epoch\"\n",
        "# 4 ways of finding the error in ML and DL : Mean absolute error , Mean squared error ,Total error (indivisual error is called \"Loss\"),Binary cross entopy\n",
        "import numpy as np\n",
        "\n",
        "y_predicted = np.array([1,1,0,0,1])\n",
        "y_true = np.array([0.30,0.7,1,0,0.5])"
      ]
    },
    {
      "cell_type": "code",
      "source": [
        "#Running a for loop array on two arrays in a parallel way \"zip\" function\n",
        "#MAE without numpy\n",
        "def mae(y_predicted,y_true):\n",
        "  total_error = 0\n",
        "  for yt , yp in zip(y_true,y_predicted):\n",
        "      total_error += abs(yt - yp)\n",
        "  print(\"Total error:\",total_error)\n",
        "  mae = total_error / len(y_true)\n",
        "  print(\"MAE:\",mae)\n",
        "  return mae"
      ],
      "metadata": {
        "id": "31vu1atxH29h"
      },
      "execution_count": 16,
      "outputs": []
    },
    {
      "cell_type": "code",
      "source": [
        "mae(y_true,y_predicted)"
      ],
      "metadata": {
        "colab": {
          "base_uri": "https://localhost:8080/"
        },
        "id": "khYBgRaHI-R4",
        "outputId": "6e3d7426-4b5a-4fc0-db84-9ef3f9d54c7f"
      },
      "execution_count": 17,
      "outputs": [
        {
          "output_type": "stream",
          "name": "stdout",
          "text": [
            "Total error: 2.5\n",
            "MAE: 0.5\n"
          ]
        },
        {
          "output_type": "execute_result",
          "data": {
            "text/plain": [
              "0.5"
            ]
          },
          "metadata": {},
          "execution_count": 17
        }
      ]
    },
    {
      "cell_type": "code",
      "source": [
        "# power of numpy in one function\n",
        "np.mean(np.abs(y_predicted-y_true))"
      ],
      "metadata": {
        "colab": {
          "base_uri": "https://localhost:8080/"
        },
        "id": "OmGsBFTNJFBh",
        "outputId": "f829bbbd-1641-4a3c-838f-3573768740b4"
      },
      "execution_count": 18,
      "outputs": [
        {
          "output_type": "execute_result",
          "data": {
            "text/plain": [
              "0.5"
            ]
          },
          "metadata": {},
          "execution_count": 18
        }
      ]
    },
    {
      "cell_type": "code",
      "source": [
        "np.log([0.00000000000001])"
      ],
      "metadata": {
        "colab": {
          "base_uri": "https://localhost:8080/"
        },
        "id": "j5n4b5HeKLEl",
        "outputId": "a1b19c47-3006-467d-a974-4c940bd6f19c"
      },
      "execution_count": 20,
      "outputs": [
        {
          "output_type": "execute_result",
          "data": {
            "text/plain": [
              "array([-32.2361913])"
            ]
          },
          "metadata": {},
          "execution_count": 20
        }
      ]
    },
    {
      "cell_type": "code",
      "source": [
        "eplison = 1e-15"
      ],
      "metadata": {
        "id": "JMOcB0DyL408"
      },
      "execution_count": 24,
      "outputs": []
    },
    {
      "cell_type": "code",
      "source": [
        "#value near 0 cuz log(0) is undifined\n",
        "y_predicted_new = [max(i,eplison) for i in y_predicted]\n",
        "y_predicted_new"
      ],
      "metadata": {
        "colab": {
          "base_uri": "https://localhost:8080/"
        },
        "id": "SJkKCLp1N4Cx",
        "outputId": "f666d712-92d5-4653-eff7-e239b142d6cf"
      },
      "execution_count": 25,
      "outputs": [
        {
          "output_type": "execute_result",
          "data": {
            "text/plain": [
              "[1, 1, 1e-15, 1e-15, 1]"
            ]
          },
          "metadata": {},
          "execution_count": 25
        }
      ]
    },
    {
      "cell_type": "code",
      "source": [
        "#value near 1\n",
        "y_predicted_new = [min(i,1-eplison) for i in y_predicted_new]\n",
        "y_predicted_new"
      ],
      "metadata": {
        "colab": {
          "base_uri": "https://localhost:8080/"
        },
        "id": "eryxydj2OQTp",
        "outputId": "68f62dfa-a8fd-4342-85f1-7965c888b75f"
      },
      "execution_count": 27,
      "outputs": [
        {
          "output_type": "execute_result",
          "data": {
            "text/plain": [
              "[0.999999999999999, 0.999999999999999, 1e-15, 1e-15, 0.999999999999999]"
            ]
          },
          "metadata": {},
          "execution_count": 27
        }
      ]
    },
    {
      "cell_type": "code",
      "source": [
        "y_predicted_new = np.array(y_predicted_new)\n",
        "np.log(y_predicted_new)"
      ],
      "metadata": {
        "colab": {
          "base_uri": "https://localhost:8080/"
        },
        "id": "YzivFOU3PDpW",
        "outputId": "715460ef-f88d-430b-8994-b572973a2e92"
      },
      "execution_count": 28,
      "outputs": [
        {
          "output_type": "execute_result",
          "data": {
            "text/plain": [
              "array([-9.99200722e-16, -9.99200722e-16, -3.45387764e+01, -3.45387764e+01,\n",
              "       -9.99200722e-16])"
            ]
          },
          "metadata": {},
          "execution_count": 28
        }
      ]
    },
    {
      "cell_type": "code",
      "source": [
        "np.log(y_predicted)"
      ],
      "metadata": {
        "colab": {
          "base_uri": "https://localhost:8080/"
        },
        "id": "wxjKwDXuP6Rr",
        "outputId": "9fe04405-5a00-42af-f79f-838378022fe3"
      },
      "execution_count": 29,
      "outputs": [
        {
          "output_type": "stream",
          "name": "stderr",
          "text": [
            "<ipython-input-29-d8d657355a01>:1: RuntimeWarning: divide by zero encountered in log\n",
            "  np.log(y_predicted)\n"
          ]
        },
        {
          "output_type": "execute_result",
          "data": {
            "text/plain": [
              "array([  0.,   0., -inf, -inf,   0.])"
            ]
          },
          "metadata": {},
          "execution_count": 29
        }
      ]
    },
    {
      "cell_type": "code",
      "source": [
        "-np.mean(y_true*np.log(y_predicted_new)+(1-y_true)*np.log(1-y_predicted_new))"
      ],
      "metadata": {
        "colab": {
          "base_uri": "https://localhost:8080/"
        },
        "id": "4yYQhpVsP_gu",
        "outputId": "62159a68-334d-4e49-c418-2a442614e290"
      },
      "execution_count": 30,
      "outputs": [
        {
          "output_type": "execute_result",
          "data": {
            "text/plain": [
              "17.2696280766844"
            ]
          },
          "metadata": {},
          "execution_count": 30
        }
      ]
    },
    {
      "cell_type": "code",
      "source": [],
      "metadata": {
        "id": "DCFyx9DuQZdA"
      },
      "execution_count": null,
      "outputs": []
    }
  ]
}