{
  "cells": [
    {
      "cell_type": "code",
      "execution_count": 1,
      "metadata": {
        "colab": {
          "base_uri": "https://localhost:8080/"
        },
        "id": "x34tqUP5VT0z",
        "outputId": "e3d5745a-9da1-43d2-ae5f-b77fc46976b3"
      },
      "outputs": [
        {
          "output_type": "stream",
          "name": "stdout",
          "text": [
            "Drive already mounted at /content/drive; to attempt to forcibly remount, call drive.mount(\"/content/drive\", force_remount=True).\n"
          ]
        }
      ],
      "source": [
        "from google.colab import drive\n",
        "\n",
        "# Mount Google Drive to access files\n",
        "drive.mount('/content/drive')\n"
      ]
    },
    {
      "cell_type": "code",
      "source": [
        "def load_images(path, target_size=(32, 32)):\n",
        "    for img_name in os.listdir(path):\n",
        "        ages = int(img_name.split(\"_\")[0])\n",
        "        genders = int(img_name.split(\"_\")[1])\n",
        "\n",
        "        # Load image and resize\n",
        "        img = cv2.imread(os.path.join(path, img_name))\n",
        "        img = cv2.cvtColor(img, cv2.COLOR_BGR2RGB)\n",
        "        img = cv2.resize(img, target_size)  # Resize image\n",
        "        img = img / 255.0  # Normalize pixel values\n",
        "\n",
        "        yield img, ages, genders\n",
        "\n",
        "path = \"UTKFace/UTKFace\"\n",
        "images = []\n",
        "age = []\n",
        "gender = []"
      ],
      "metadata": {
        "id": "qHb6GapCELjQ"
      },
      "execution_count": 3,
      "outputs": []
    },
    {
      "cell_type": "code",
      "source": [
        "import cv2\n",
        "import numpy as np\n",
        "import os\n",
        "from sklearn.model_selection import train_test_split\n",
        "from keras.utils import to_categorical"
      ],
      "metadata": {
        "id": "Q-201eIZGE7C"
      },
      "execution_count": 4,
      "outputs": []
    },
    {
      "cell_type": "code",
      "source": [
        "path = \"/content/drive/MyDrive/archive.zip (Unzipped Files)/utkface_aligned_cropped/UTKFace\"\n",
        "images = []\n",
        "age = []\n",
        "gender = []"
      ],
      "metadata": {
        "id": "M2pRa5yPBphN"
      },
      "execution_count": 5,
      "outputs": []
    },
    {
      "cell_type": "code",
      "execution_count": 7,
      "metadata": {
        "id": "TiOsG_xNy8IU"
      },
      "outputs": [],
      "source": [
        "for img, ages, genders in load_images(path):\n",
        "    images.append(img)\n",
        "    age.append(ages)\n",
        "    gender.append(genders)"
      ]
    },
    {
      "cell_type": "code",
      "execution_count": 8,
      "metadata": {
        "id": "yztZyuMZzBiQ"
      },
      "outputs": [],
      "source": [
        "x_train_age, x_test_age, y_train_age, y_test_age = train_test_split(images, age, random_state=42)\n",
        "x_train_gender, x_test_gender, y_train_gender, y_test_gender = train_test_split(images, gender, random_state=42)"
      ]
    },
    {
      "cell_type": "code",
      "source": [
        "from keras.models import Sequential,load_model,Model\n",
        "from keras.layers import Conv2D,MaxPool2D,Dense,Dropout,BatchNormalization,Flatten,Input\n",
        "from sklearn.model_selection import train_test_split"
      ],
      "metadata": {
        "id": "98uhAPkUJHGf"
      },
      "execution_count": 9,
      "outputs": []
    },
    {
      "cell_type": "code",
      "execution_count": 22,
      "metadata": {
        "id": "yDct8xJEzVrL",
        "colab": {
          "base_uri": "https://localhost:8080/"
        },
        "outputId": "6121330c-3b79-4af2-b6a8-c2f70c2d310c"
      },
      "outputs": [
        {
          "output_type": "stream",
          "name": "stdout",
          "text": [
            "Model: \"sequential_7\"\n",
            "_________________________________________________________________\n",
            " Layer (type)                Output Shape              Param #   \n",
            "=================================================================\n",
            " conv2d_27 (Conv2D)          (None, 30, 30, 128)       3584      \n",
            "                                                                 \n",
            " max_pooling2d_24 (MaxPooli  (None, 14, 14, 128)       0         \n",
            " ng2D)                                                           \n",
            "                                                                 \n",
            " conv2d_28 (Conv2D)          (None, 12, 12, 128)       147584    \n",
            "                                                                 \n",
            " max_pooling2d_25 (MaxPooli  (None, 5, 5, 128)         0         \n",
            " ng2D)                                                           \n",
            "                                                                 \n",
            " conv2d_29 (Conv2D)          (None, 3, 3, 256)         295168    \n",
            "                                                                 \n",
            " max_pooling2d_26 (MaxPooli  (None, 1, 1, 256)         0         \n",
            " ng2D)                                                           \n",
            "                                                                 \n",
            " flatten_2 (Flatten)         (None, 256)               0         \n",
            "                                                                 \n",
            " dropout_2 (Dropout)         (None, 256)               0         \n",
            "                                                                 \n",
            " dense_2 (Dense)             (None, 512)               131584    \n",
            "                                                                 \n",
            " age (Dense)                 (None, 1)                 513       \n",
            "                                                                 \n",
            "=================================================================\n",
            "Total params: 578433 (2.21 MB)\n",
            "Trainable params: 578433 (2.21 MB)\n",
            "Non-trainable params: 0 (0.00 Byte)\n",
            "_________________________________________________________________\n",
            "None\n"
          ]
        }
      ],
      "source": [
        "age_model = Sequential()\n",
        "age_model.add(Conv2D(128, kernel_size=3, activation='relu', input_shape=(32,32,3)))\n",
        "#age_model.add(Conv2D(128, kernel_size=3, activation='relu'))\n",
        "age_model.add(MaxPool2D(pool_size=3, strides=2))\n",
        "\n",
        "age_model.add(Conv2D(128, kernel_size=3, activation='relu'))\n",
        "#age_model.add(Conv2D(128, kernel_size=3, activation='relu'))\n",
        "age_model.add(MaxPool2D(pool_size=3, strides=2))\n",
        "\n",
        "age_model.add(Conv2D(256, kernel_size=3, activation='relu'))\n",
        "#age_model.add(Conv2D(256, kernel_size=3, activation='relu'))\n",
        "age_model.add(MaxPool2D(pool_size=3, strides=2))\n",
        "\n",
        "#age_model.add(Conv2D(512, kernel_size=3, activation='relu'))\n",
        "#age_model.add(Conv2D(512, kernel_size=3, activation='relu'))\n",
        "#age_model.add(MaxPool2D(pool_size=3, strides=2))\n",
        "\n",
        "age_model.add(Flatten())\n",
        "age_model.add(Dropout(0.2))\n",
        "age_model.add(Dense(512, activation='relu'))\n",
        "\n",
        "age_model.add(Dense(1, activation='linear', name='age'))\n",
        "\n",
        "age_model.compile(optimizer='adam', loss='mse', metrics=['mae'])\n",
        "print(age_model.summary())"
      ]
    },
    {
      "cell_type": "code",
      "source": [
        "# Convert lists to NumPy arrays\n",
        "x_train_age = np.array(x_train_age)\n",
        "y_train_age = np.array(y_train_age)\n",
        "x_test_age = np.array(x_test_age)\n",
        "y_test_age = np.array(y_test_age)\n",
        "\n",
        "# Check the shapes of the arrays\n",
        "print('Shapes of x_train_age, y_train_age, x_test_age, y_test_age:')\n",
        "print(x_train_age.shape, y_train_age.shape, x_test_age.shape, y_test_age.shape)"
      ],
      "metadata": {
        "id": "d6PDMiubMSVw",
        "colab": {
          "base_uri": "https://localhost:8080/"
        },
        "outputId": "0a52faff-e3ee-4ce5-a780-9799039beed6"
      },
      "execution_count": 16,
      "outputs": [
        {
          "output_type": "stream",
          "name": "stdout",
          "text": [
            "Shapes of x_train_age, y_train_age, x_test_age, y_test_age:\n",
            "(17781, 32, 32, 3) (17781,) (5927, 32, 32, 3) (5927,)\n"
          ]
        }
      ]
    },
    {
      "cell_type": "code",
      "source": [
        "history1 = age_model.fit(x_train_age, y_train_age, validation_data=(x_test_age, y_test_age), epochs=50)"
      ],
      "metadata": {
        "id": "kVJmEoARJO57",
        "colab": {
          "base_uri": "https://localhost:8080/"
        },
        "outputId": "e55db4f5-d972-427e-d86f-2c63aa22a18b"
      },
      "execution_count": 23,
      "outputs": [
        {
          "output_type": "stream",
          "name": "stdout",
          "text": [
            "Epoch 1/50\n",
            "556/556 [==============================] - 9s 6ms/step - loss: 429.5904 - mae: 15.9949 - val_loss: 348.9112 - val_mae: 14.0000\n",
            "Epoch 2/50\n",
            "556/556 [==============================] - 3s 5ms/step - loss: 302.0414 - mae: 13.4071 - val_loss: 263.7174 - val_mae: 11.8108\n",
            "Epoch 3/50\n",
            "556/556 [==============================] - 3s 5ms/step - loss: 229.1485 - mae: 11.4764 - val_loss: 229.7462 - val_mae: 12.2503\n",
            "Epoch 4/50\n",
            "556/556 [==============================] - 3s 5ms/step - loss: 199.6712 - mae: 10.5209 - val_loss: 173.9980 - val_mae: 9.7717\n",
            "Epoch 5/50\n",
            "556/556 [==============================] - 3s 5ms/step - loss: 170.8428 - mae: 9.6212 - val_loss: 154.5226 - val_mae: 9.2327\n",
            "Epoch 6/50\n",
            "556/556 [==============================] - 3s 5ms/step - loss: 151.2307 - mae: 9.0413 - val_loss: 139.1356 - val_mae: 8.5114\n",
            "Epoch 7/50\n",
            "556/556 [==============================] - 3s 5ms/step - loss: 139.2556 - mae: 8.6379 - val_loss: 152.5328 - val_mae: 9.4613\n",
            "Epoch 8/50\n",
            "556/556 [==============================] - 3s 5ms/step - loss: 125.7313 - mae: 8.1844 - val_loss: 125.8785 - val_mae: 8.2902\n",
            "Epoch 9/50\n",
            "556/556 [==============================] - 3s 5ms/step - loss: 116.6793 - mae: 7.8668 - val_loss: 144.9470 - val_mae: 8.4610\n",
            "Epoch 10/50\n",
            "556/556 [==============================] - 3s 5ms/step - loss: 114.5799 - mae: 7.7936 - val_loss: 136.7003 - val_mae: 8.2278\n",
            "Epoch 11/50\n",
            "556/556 [==============================] - 3s 5ms/step - loss: 106.7762 - mae: 7.5552 - val_loss: 118.9129 - val_mae: 7.8842\n",
            "Epoch 12/50\n",
            "556/556 [==============================] - 3s 5ms/step - loss: 99.8004 - mae: 7.3050 - val_loss: 128.1432 - val_mae: 8.2042\n",
            "Epoch 13/50\n",
            "556/556 [==============================] - 3s 5ms/step - loss: 94.0166 - mae: 7.0570 - val_loss: 118.3720 - val_mae: 8.0983\n",
            "Epoch 14/50\n",
            "556/556 [==============================] - 3s 5ms/step - loss: 91.2113 - mae: 6.9419 - val_loss: 120.5468 - val_mae: 8.0336\n",
            "Epoch 15/50\n",
            "556/556 [==============================] - 3s 5ms/step - loss: 85.5825 - mae: 6.7583 - val_loss: 135.4538 - val_mae: 8.9863\n",
            "Epoch 16/50\n",
            "556/556 [==============================] - 3s 5ms/step - loss: 78.8639 - mae: 6.4981 - val_loss: 122.3099 - val_mae: 8.3205\n",
            "Epoch 17/50\n",
            "556/556 [==============================] - 3s 5ms/step - loss: 76.6177 - mae: 6.3950 - val_loss: 118.6487 - val_mae: 8.1240\n",
            "Epoch 18/50\n",
            "556/556 [==============================] - 3s 5ms/step - loss: 73.5482 - mae: 6.2822 - val_loss: 103.6969 - val_mae: 7.2801\n",
            "Epoch 19/50\n",
            "556/556 [==============================] - 3s 5ms/step - loss: 67.2629 - mae: 6.0216 - val_loss: 123.9835 - val_mae: 7.7359\n",
            "Epoch 20/50\n",
            "556/556 [==============================] - 3s 5ms/step - loss: 66.5946 - mae: 6.0017 - val_loss: 102.8996 - val_mae: 7.3808\n",
            "Epoch 21/50\n",
            "556/556 [==============================] - 3s 5ms/step - loss: 63.0488 - mae: 5.8352 - val_loss: 110.5720 - val_mae: 7.3157\n",
            "Epoch 22/50\n",
            "556/556 [==============================] - 3s 5ms/step - loss: 60.0126 - mae: 5.7062 - val_loss: 107.0744 - val_mae: 7.4567\n",
            "Epoch 23/50\n",
            "556/556 [==============================] - 3s 5ms/step - loss: 57.4499 - mae: 5.5850 - val_loss: 127.1583 - val_mae: 7.7786\n",
            "Epoch 24/50\n",
            "556/556 [==============================] - 3s 5ms/step - loss: 54.6320 - mae: 5.4522 - val_loss: 102.8936 - val_mae: 7.2228\n",
            "Epoch 25/50\n",
            "556/556 [==============================] - 3s 5ms/step - loss: 51.9929 - mae: 5.3091 - val_loss: 105.7423 - val_mae: 7.3812\n",
            "Epoch 26/50\n",
            "556/556 [==============================] - 3s 5ms/step - loss: 52.6451 - mae: 5.3523 - val_loss: 102.0666 - val_mae: 7.1351\n",
            "Epoch 27/50\n",
            "556/556 [==============================] - 3s 5ms/step - loss: 48.9339 - mae: 5.1763 - val_loss: 101.5203 - val_mae: 7.1186\n",
            "Epoch 28/50\n",
            "556/556 [==============================] - 3s 5ms/step - loss: 45.8126 - mae: 4.9975 - val_loss: 103.7944 - val_mae: 7.2016\n",
            "Epoch 29/50\n",
            "556/556 [==============================] - 3s 5ms/step - loss: 44.4831 - mae: 4.9456 - val_loss: 102.3804 - val_mae: 7.1576\n",
            "Epoch 30/50\n",
            "556/556 [==============================] - 3s 5ms/step - loss: 43.7225 - mae: 4.9096 - val_loss: 104.1594 - val_mae: 7.1037\n",
            "Epoch 31/50\n",
            "556/556 [==============================] - 2s 4ms/step - loss: 42.4330 - mae: 4.8313 - val_loss: 104.8014 - val_mae: 7.4129\n",
            "Epoch 32/50\n",
            "556/556 [==============================] - 2s 4ms/step - loss: 39.9917 - mae: 4.6956 - val_loss: 104.6019 - val_mae: 7.1203\n",
            "Epoch 33/50\n",
            "556/556 [==============================] - 3s 5ms/step - loss: 39.0908 - mae: 4.6519 - val_loss: 103.4232 - val_mae: 7.1955\n",
            "Epoch 34/50\n",
            "556/556 [==============================] - 2s 4ms/step - loss: 38.2798 - mae: 4.6056 - val_loss: 102.6017 - val_mae: 7.1702\n",
            "Epoch 35/50\n",
            "556/556 [==============================] - 2s 4ms/step - loss: 37.5295 - mae: 4.5487 - val_loss: 104.4620 - val_mae: 7.1473\n",
            "Epoch 36/50\n",
            "556/556 [==============================] - 2s 4ms/step - loss: 36.5110 - mae: 4.5208 - val_loss: 106.9175 - val_mae: 7.1640\n",
            "Epoch 37/50\n",
            "556/556 [==============================] - 2s 4ms/step - loss: 33.6657 - mae: 4.3513 - val_loss: 101.1310 - val_mae: 6.9936\n",
            "Epoch 38/50\n",
            "556/556 [==============================] - 2s 4ms/step - loss: 31.7679 - mae: 4.2209 - val_loss: 104.6507 - val_mae: 7.1062\n",
            "Epoch 39/50\n",
            "556/556 [==============================] - 2s 4ms/step - loss: 32.0364 - mae: 4.2285 - val_loss: 102.8341 - val_mae: 7.0619\n",
            "Epoch 40/50\n",
            "556/556 [==============================] - 2s 4ms/step - loss: 31.6181 - mae: 4.2076 - val_loss: 102.9564 - val_mae: 7.0703\n",
            "Epoch 41/50\n",
            "556/556 [==============================] - 2s 4ms/step - loss: 30.3815 - mae: 4.1268 - val_loss: 100.9168 - val_mae: 6.9560\n",
            "Epoch 42/50\n",
            "556/556 [==============================] - 2s 4ms/step - loss: 28.5845 - mae: 4.0330 - val_loss: 104.4913 - val_mae: 7.1807\n",
            "Epoch 43/50\n",
            "556/556 [==============================] - 2s 4ms/step - loss: 28.4971 - mae: 4.0118 - val_loss: 106.0181 - val_mae: 7.2841\n",
            "Epoch 44/50\n",
            "556/556 [==============================] - 2s 4ms/step - loss: 28.3580 - mae: 3.9989 - val_loss: 104.6399 - val_mae: 7.1224\n",
            "Epoch 45/50\n",
            "556/556 [==============================] - 2s 4ms/step - loss: 27.4983 - mae: 3.9355 - val_loss: 103.8147 - val_mae: 7.0259\n",
            "Epoch 46/50\n",
            "556/556 [==============================] - 2s 4ms/step - loss: 26.2733 - mae: 3.8579 - val_loss: 105.7540 - val_mae: 7.3136\n",
            "Epoch 47/50\n",
            "556/556 [==============================] - 2s 4ms/step - loss: 26.7980 - mae: 3.8759 - val_loss: 103.7939 - val_mae: 7.1416\n",
            "Epoch 48/50\n",
            "556/556 [==============================] - 2s 4ms/step - loss: 25.6417 - mae: 3.8210 - val_loss: 105.6974 - val_mae: 7.1720\n",
            "Epoch 49/50\n",
            "556/556 [==============================] - 2s 4ms/step - loss: 24.8817 - mae: 3.7374 - val_loss: 109.7216 - val_mae: 7.1613\n",
            "Epoch 50/50\n",
            "556/556 [==============================] - 2s 4ms/step - loss: 23.8085 - mae: 3.6855 - val_loss: 103.4462 - val_mae: 7.0843\n"
          ]
        }
      ]
    },
    {
      "cell_type": "code",
      "source": [
        "age_model.save('age_model_50epochs.h5')"
      ],
      "metadata": {
        "colab": {
          "base_uri": "https://localhost:8080/"
        },
        "id": "GnKWgq7-SIiX",
        "outputId": "748aad12-43e3-4e2b-aa10-673145017d69"
      },
      "execution_count": 24,
      "outputs": [
        {
          "output_type": "stream",
          "name": "stderr",
          "text": [
            "/usr/local/lib/python3.10/dist-packages/keras/src/engine/training.py:3103: UserWarning: You are saving your model as an HDF5 file via `model.save()`. This file format is considered legacy. We recommend using instead the native Keras format, e.g. `model.save('my_model.keras')`.\n",
            "  saving_api.save_model(\n"
          ]
        }
      ]
    },
    {
      "cell_type": "code",
      "source": [
        "import matplotlib.pyplot as plt\n",
        "history = history1\n",
        "\n",
        "#plot the training and validation accuracy and loss at each epoch\n",
        "loss = history.history['loss']\n",
        "val_loss = history.history['val_loss']\n",
        "epochs = range(1, len(loss) + 1)\n",
        "plt.plot(epochs, loss, 'y', label='Training loss')\n",
        "plt.plot(epochs, val_loss, 'r', label='Validation loss')\n",
        "plt.title('Training and validation loss')\n",
        "plt.xlabel('Epochs')\n",
        "plt.ylabel('Loss')\n",
        "plt.legend()\n",
        "plt.show()"
      ],
      "metadata": {
        "colab": {
          "base_uri": "https://localhost:8080/",
          "height": 472
        },
        "id": "PYsWUplvSE-H",
        "outputId": "4e56c906-0706-44b0-9ae5-e5f8344cd777"
      },
      "execution_count": 28,
      "outputs": [
        {
          "output_type": "display_data",
          "data": {
            "text/plain": [
              "<Figure size 640x480 with 1 Axes>"
            ],
            "image/png": "[encoded data removed]"
          },
          "metadata": {}
        }
      ]
    },
    {
      "cell_type": "code",
      "source": [
        "gender_model = Sequential()\n",
        "\n",
        "gender_model.add(Conv2D(36, kernel_size=3, activation='relu', input_shape=(32,32,3)))\n",
        "\n",
        "gender_model.add(MaxPool2D(pool_size=3, strides=2))\n",
        "gender_model.add(Conv2D(64, kernel_size=3, activation='relu'))\n",
        "gender_model.add(MaxPool2D(pool_size=3, strides=2))\n",
        "\n",
        "gender_model.add(Conv2D(128, kernel_size=3, activation='relu'))\n",
        "gender_model.add(MaxPool2D(pool_size=3, strides=2))\n",
        "\n",
        "#gender_model.add(Conv2D(256, kernel_size=3, activation='relu'))\n",
        "#gender_model.add(MaxPool2D(pool_size=3, strides=2))\n",
        "\n",
        "#gender_model.add(Conv2D(512, kernel_size=3, activation='relu'))\n",
        "#gender_model.add(MaxPool2D(pool_size=3, strides=2))\n",
        "\n",
        "gender_model.add(Flatten())\n",
        "gender_model.add(Dropout(0.2))\n",
        "gender_model.add(Dense(512, activation='relu'))\n",
        "gender_model.add(Dense(1, activation='sigmoid', name='gender'))\n",
        "\n",
        "gender_model.compile(optimizer='adam', loss='binary_crossentropy', metrics=['accuracy'])\n",
        "\n",
        "\n"
      ],
      "metadata": {
        "id": "6_HMD0LcKKug"
      },
      "execution_count": 33,
      "outputs": []
    },
    {
      "cell_type": "code",
      "source": [
        "# Convert lists to NumPy arrays for gender model\n",
        "x_train_gender = np.array(x_train_gender)\n",
        "y_train_gender = np.array(y_train_gender)\n",
        "x_test_gender = np.array(x_test_gender)\n",
        "y_test_gender = np.array(y_test_gender)\n",
        "\n",
        "# Check the shapes of the arrays for gender model\n",
        "print('Shapes of x_train_gender, y_train_gender, x_test_gender, y_test_gender:')\n",
        "print(x_train_gender.shape, y_train_gender.shape, x_test_gender.shape, y_test_gender.shape)"
      ],
      "metadata": {
        "colab": {
          "base_uri": "https://localhost:8080/"
        },
        "id": "YdoExZXCTE0u",
        "outputId": "97cfeb22-7b28-4b4d-8fe2-b90fbf3fe55e"
      },
      "execution_count": 37,
      "outputs": [
        {
          "output_type": "stream",
          "name": "stdout",
          "text": [
            "Shapes of x_train_gender, y_train_gender, x_test_gender, y_test_gender:\n",
            "(17781, 32, 32, 3) (17781,) (5927, 32, 32, 3) (5927,)\n"
          ]
        }
      ]
    },
    {
      "cell_type": "code",
      "source": [
        "history_gender = gender_model.fit(x_train_gender, y_train_gender,validation_data=(x_test_gender, y_test_gender), epochs=50)"
      ],
      "metadata": {
        "colab": {
          "base_uri": "https://localhost:8080/"
        },
        "id": "AskBZLQHS3Oe",
        "outputId": "d221c24e-12bc-4957-bd64-efa5c401272b"
      },
      "execution_count": 38,
      "outputs": [
        {
          "output_type": "stream",
          "name": "stdout",
          "text": [
            "Epoch 1/50\n",
            "556/556 [==============================] - 6s 6ms/step - loss: 0.5318 - accuracy: 0.7208 - val_loss: 0.3804 - val_accuracy: 0.8208\n",
            "Epoch 2/50\n",
            "556/556 [==============================] - 3s 5ms/step - loss: 0.3663 - accuracy: 0.8385 - val_loss: 0.3409 - val_accuracy: 0.8434\n",
            "Epoch 3/50\n",
            "556/556 [==============================] - 3s 5ms/step - loss: 0.3305 - accuracy: 0.8529 - val_loss: 0.3018 - val_accuracy: 0.8637\n",
            "Epoch 4/50\n",
            "556/556 [==============================] - 3s 5ms/step - loss: 0.3121 - accuracy: 0.8623 - val_loss: 0.3210 - val_accuracy: 0.8549\n",
            "Epoch 5/50\n",
            "556/556 [==============================] - 3s 5ms/step - loss: 0.2930 - accuracy: 0.8695 - val_loss: 0.2827 - val_accuracy: 0.8704\n",
            "Epoch 6/50\n",
            "556/556 [==============================] - 3s 5ms/step - loss: 0.2846 - accuracy: 0.8753 - val_loss: 0.2849 - val_accuracy: 0.8728\n",
            "Epoch 7/50\n",
            "556/556 [==============================] - 3s 5ms/step - loss: 0.2746 - accuracy: 0.8786 - val_loss: 0.2859 - val_accuracy: 0.8740\n",
            "Epoch 8/50\n",
            "556/556 [==============================] - 3s 5ms/step - loss: 0.2657 - accuracy: 0.8854 - val_loss: 0.3010 - val_accuracy: 0.8674\n",
            "Epoch 9/50\n",
            "556/556 [==============================] - 3s 5ms/step - loss: 0.2575 - accuracy: 0.8858 - val_loss: 0.2797 - val_accuracy: 0.8768\n",
            "Epoch 10/50\n",
            "556/556 [==============================] - 3s 5ms/step - loss: 0.2463 - accuracy: 0.8924 - val_loss: 0.2822 - val_accuracy: 0.8760\n",
            "Epoch 11/50\n",
            "556/556 [==============================] - 3s 5ms/step - loss: 0.2466 - accuracy: 0.8917 - val_loss: 0.2937 - val_accuracy: 0.8743\n",
            "Epoch 12/50\n",
            "556/556 [==============================] - 2s 4ms/step - loss: 0.2404 - accuracy: 0.8967 - val_loss: 0.2977 - val_accuracy: 0.8635\n",
            "Epoch 13/50\n",
            "556/556 [==============================] - 3s 5ms/step - loss: 0.2321 - accuracy: 0.8976 - val_loss: 0.2707 - val_accuracy: 0.8789\n",
            "Epoch 14/50\n",
            "556/556 [==============================] - 3s 5ms/step - loss: 0.2203 - accuracy: 0.9060 - val_loss: 0.2825 - val_accuracy: 0.8757\n",
            "Epoch 15/50\n",
            "556/556 [==============================] - 3s 5ms/step - loss: 0.2232 - accuracy: 0.9035 - val_loss: 0.2677 - val_accuracy: 0.8802\n",
            "Epoch 16/50\n",
            "556/556 [==============================] - 3s 5ms/step - loss: 0.2160 - accuracy: 0.9082 - val_loss: 0.2896 - val_accuracy: 0.8713\n",
            "Epoch 17/50\n",
            "556/556 [==============================] - 3s 5ms/step - loss: 0.2074 - accuracy: 0.9114 - val_loss: 0.2666 - val_accuracy: 0.8854\n",
            "Epoch 18/50\n",
            "556/556 [==============================] - 3s 5ms/step - loss: 0.2037 - accuracy: 0.9133 - val_loss: 0.2747 - val_accuracy: 0.8863\n",
            "Epoch 19/50\n",
            "556/556 [==============================] - 3s 4ms/step - loss: 0.1963 - accuracy: 0.9140 - val_loss: 0.2711 - val_accuracy: 0.8827\n",
            "Epoch 20/50\n",
            "556/556 [==============================] - 3s 5ms/step - loss: 0.1961 - accuracy: 0.9194 - val_loss: 0.2768 - val_accuracy: 0.8807\n",
            "Epoch 21/50\n",
            "556/556 [==============================] - 3s 5ms/step - loss: 0.1887 - accuracy: 0.9194 - val_loss: 0.2932 - val_accuracy: 0.8859\n",
            "Epoch 22/50\n",
            "556/556 [==============================] - 3s 5ms/step - loss: 0.1834 - accuracy: 0.9203 - val_loss: 0.2762 - val_accuracy: 0.8822\n",
            "Epoch 23/50\n",
            "556/556 [==============================] - 3s 5ms/step - loss: 0.1767 - accuracy: 0.9238 - val_loss: 0.2827 - val_accuracy: 0.8829\n",
            "Epoch 24/50\n",
            "556/556 [==============================] - 3s 5ms/step - loss: 0.1777 - accuracy: 0.9265 - val_loss: 0.2875 - val_accuracy: 0.8794\n",
            "Epoch 25/50\n",
            "556/556 [==============================] - 3s 5ms/step - loss: 0.1740 - accuracy: 0.9267 - val_loss: 0.2924 - val_accuracy: 0.8839\n",
            "Epoch 26/50\n",
            "556/556 [==============================] - 2s 4ms/step - loss: 0.1687 - accuracy: 0.9287 - val_loss: 0.2930 - val_accuracy: 0.8805\n",
            "Epoch 27/50\n",
            "556/556 [==============================] - 3s 5ms/step - loss: 0.1623 - accuracy: 0.9339 - val_loss: 0.3119 - val_accuracy: 0.8873\n",
            "Epoch 28/50\n",
            "556/556 [==============================] - 3s 5ms/step - loss: 0.1619 - accuracy: 0.9307 - val_loss: 0.3045 - val_accuracy: 0.8849\n",
            "Epoch 29/50\n",
            "556/556 [==============================] - 3s 5ms/step - loss: 0.1549 - accuracy: 0.9362 - val_loss: 0.3366 - val_accuracy: 0.8811\n",
            "Epoch 30/50\n",
            "556/556 [==============================] - 3s 5ms/step - loss: 0.1529 - accuracy: 0.9345 - val_loss: 0.3145 - val_accuracy: 0.8800\n",
            "Epoch 31/50\n",
            "556/556 [==============================] - 3s 5ms/step - loss: 0.1462 - accuracy: 0.9408 - val_loss: 0.3301 - val_accuracy: 0.8736\n",
            "Epoch 32/50\n",
            "556/556 [==============================] - 3s 5ms/step - loss: 0.1415 - accuracy: 0.9427 - val_loss: 0.2966 - val_accuracy: 0.8819\n",
            "Epoch 33/50\n",
            "556/556 [==============================] - 3s 5ms/step - loss: 0.1470 - accuracy: 0.9414 - val_loss: 0.3325 - val_accuracy: 0.8674\n",
            "Epoch 34/50\n",
            "556/556 [==============================] - 3s 5ms/step - loss: 0.1402 - accuracy: 0.9440 - val_loss: 0.3332 - val_accuracy: 0.8819\n",
            "Epoch 35/50\n",
            "556/556 [==============================] - 3s 5ms/step - loss: 0.1397 - accuracy: 0.9432 - val_loss: 0.3459 - val_accuracy: 0.8834\n",
            "Epoch 36/50\n",
            "556/556 [==============================] - 3s 5ms/step - loss: 0.1347 - accuracy: 0.9468 - val_loss: 0.3174 - val_accuracy: 0.8807\n",
            "Epoch 37/50\n",
            "556/556 [==============================] - 3s 5ms/step - loss: 0.1307 - accuracy: 0.9478 - val_loss: 0.3374 - val_accuracy: 0.8853\n",
            "Epoch 38/50\n",
            "556/556 [==============================] - 3s 5ms/step - loss: 0.1283 - accuracy: 0.9480 - val_loss: 0.3536 - val_accuracy: 0.8792\n",
            "Epoch 39/50\n",
            "556/556 [==============================] - 3s 5ms/step - loss: 0.1268 - accuracy: 0.9491 - val_loss: 0.3304 - val_accuracy: 0.8770\n",
            "Epoch 40/50\n",
            "556/556 [==============================] - 3s 5ms/step - loss: 0.1269 - accuracy: 0.9491 - val_loss: 0.3429 - val_accuracy: 0.8843\n",
            "Epoch 41/50\n",
            "556/556 [==============================] - 3s 5ms/step - loss: 0.1221 - accuracy: 0.9512 - val_loss: 0.3531 - val_accuracy: 0.8809\n",
            "Epoch 42/50\n",
            "556/556 [==============================] - 3s 5ms/step - loss: 0.1185 - accuracy: 0.9513 - val_loss: 0.3672 - val_accuracy: 0.8826\n",
            "Epoch 43/50\n",
            "556/556 [==============================] - 3s 5ms/step - loss: 0.1191 - accuracy: 0.9529 - val_loss: 0.3617 - val_accuracy: 0.8829\n",
            "Epoch 44/50\n",
            "556/556 [==============================] - 3s 5ms/step - loss: 0.1205 - accuracy: 0.9519 - val_loss: 0.3703 - val_accuracy: 0.8807\n",
            "Epoch 45/50\n",
            "556/556 [==============================] - 3s 5ms/step - loss: 0.1155 - accuracy: 0.9544 - val_loss: 0.3806 - val_accuracy: 0.8812\n",
            "Epoch 46/50\n",
            "556/556 [==============================] - 3s 4ms/step - loss: 0.1148 - accuracy: 0.9528 - val_loss: 0.3518 - val_accuracy: 0.8816\n",
            "Epoch 47/50\n",
            "556/556 [==============================] - 3s 5ms/step - loss: 0.1086 - accuracy: 0.9565 - val_loss: 0.3995 - val_accuracy: 0.8838\n",
            "Epoch 48/50\n",
            "556/556 [==============================] - 3s 5ms/step - loss: 0.1137 - accuracy: 0.9552 - val_loss: 0.3804 - val_accuracy: 0.8826\n",
            "Epoch 49/50\n",
            "556/556 [==============================] - 3s 5ms/step - loss: 0.0998 - accuracy: 0.9602 - val_loss: 0.4053 - val_accuracy: 0.8773\n",
            "Epoch 50/50\n",
            "556/556 [==============================] - 3s 5ms/step - loss: 0.1034 - accuracy: 0.9588 - val_loss: 0.3851 - val_accuracy: 0.8814\n"
          ]
        }
      ]
    },
    {
      "cell_type": "code",
      "source": [
        "gender_model.save('gender_model_50epochs.h5')"
      ],
      "metadata": {
        "colab": {
          "base_uri": "https://localhost:8080/"
        },
        "id": "NE9QYoRvT0bE",
        "outputId": "99376b60-5d1f-49bf-b078-a6eae8e55ef4"
      },
      "execution_count": 39,
      "outputs": [
        {
          "output_type": "stream",
          "name": "stderr",
          "text": [
            "/usr/local/lib/python3.10/dist-packages/keras/src/engine/training.py:3103: UserWarning: You are saving your model as an HDF5 file via `model.save()`. This file format is considered legacy. We recommend using instead the native Keras format, e.g. `model.save('my_model.keras')`.\n",
            "  saving_api.save_model(\n"
          ]
        }
      ]
    },
    {
      "cell_type": "code",
      "source": [
        "history = history_gender\n",
        "acc = history.history['accuracy']\n",
        "#acc = history.history['accuracy']\n",
        "val_acc = history.history['val_accuracy']\n",
        "#val_acc = history.history['val_accuracy']\n",
        "\n",
        "plt.plot(epochs, acc, 'y', label='Training acc')\n",
        "plt.plot(epochs, val_acc, 'r', label='Validation acc')\n",
        "plt.title('Training and validation accuracy')\n",
        "plt.xlabel('Epochs')\n",
        "plt.ylabel('Accuracy')\n",
        "plt.legend()\n",
        "plt.show()"
      ],
      "metadata": {
        "colab": {
          "base_uri": "https://localhost:8080/",
          "height": 472
        },
        "id": "6ntLPt5JMT80",
        "outputId": "75de1519-fc65-4b2f-9e1f-8a514cc359ff"
      },
      "execution_count": 45,
      "outputs": [
        {
          "output_type": "display_data",
          "data": {
            "text/plain": [
              "<Figure size 640x480 with 1 Axes>"
            ],
            "image/png": "[encoded data removed]"
          },
          "metadata": {}
        }
      ]
    },
    {
      "cell_type": "code",
      "source": [],
      "metadata": {
        "id": "VZ1QDpcCVuDa"
      },
      "execution_count": null,
      "outputs": []
    }
  ],
  "metadata": {
    "accelerator": "GPU",
    "colab": {
      "gpuType": "A100",
      "provenance": [],
      "machine_shape": "hm"
    },
    "kernelspec": {
      "display_name": "Python 3",
      "name": "python3"
    },
    "language_info": {
      "name": "python"
    }
  },
  "nbformat": 4,
  "nbformat_minor": 0
}